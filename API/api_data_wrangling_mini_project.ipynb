{
 "cells": [
  {
   "cell_type": "markdown",
   "metadata": {},
   "source": [
    "This exercise will require you to pull some data from the Qunadl API. Qaundl is currently the most widely used aggregator of financial market data."
   ]
  },
  {
   "cell_type": "markdown",
   "metadata": {},
   "source": [
    "As a first step, you will need to register a free account on the http://www.quandl.com website."
   ]
  },
  {
   "cell_type": "markdown",
   "metadata": {},
   "source": [
    "After you register, you will be provided with a unique API key, that you should store:"
   ]
  },
  {
   "cell_type": "code",
   "execution_count": 1,
   "metadata": {},
   "outputs": [],
   "source": [
    "# Store the API key as a string - according to PEP8, constants are always named in all upper case\n",
    "API_KEY = '3-xMAiWLkV9LLFdD5KZB'"
   ]
  },
  {
   "cell_type": "markdown",
   "metadata": {},
   "source": [
    "Qaundl has a large number of data sources, but, unfortunately, most of them require a Premium subscription. Still, there are also a good number of free datasets."
   ]
  },
  {
   "cell_type": "markdown",
   "metadata": {},
   "source": [
    "For this mini project, we will focus on equities data from the Frankfurt Stock Exhange (FSE), which is available for free. We'll try and analyze the stock prices of a company called Carl Zeiss Meditec, which manufactures tools for eye examinations, as well as medical lasers for laser eye surgery: https://www.zeiss.com/meditec/int/home.html. The company is listed under the stock ticker AFX_X."
   ]
  },
  {
   "cell_type": "markdown",
   "metadata": {},
   "source": [
    "You can find the detailed Quandl API instructions here: https://docs.quandl.com/docs/time-series"
   ]
  },
  {
   "cell_type": "markdown",
   "metadata": {},
   "source": [
    "While there is a dedicated Python package for connecting to the Quandl API, we would prefer that you use the *requests* package, which can be easily downloaded using *pip* or *conda*. You can find the documentation for the package here: http://docs.python-requests.org/en/master/ "
   ]
  },
  {
   "cell_type": "markdown",
   "metadata": {},
   "source": [
    "Finally, apart from the *requests* package, you are encouraged to not use any third party Python packages, such as *pandas*, and instead focus on what's available in the Python Standard Library (the *collections* module might come in handy: https://pymotw.com/3/collections/ ).\n",
    "Also, since you won't have access to DataFrames, you are encouraged to us Python's native data structures - preferably dictionaries, though some questions can also be answered using lists.\n",
    "You can read more on these data structures here: https://docs.python.org/3/tutorial/datastructures.html"
   ]
  },
  {
   "cell_type": "markdown",
   "metadata": {},
   "source": [
    "Keep in mind that the JSON responses you will be getting from the API map almost one-to-one to Python's dictionaries. Unfortunately, they can be very nested, so make sure you read up on indexing dictionaries in the documentation provided above."
   ]
  },
  {
   "cell_type": "code",
   "execution_count": 2,
   "metadata": {},
   "outputs": [],
   "source": [
    "# First, import the relevant modules\n",
    "import requests\n",
    "import json\n",
    "import pandas as pd"
   ]
  },
  {
   "cell_type": "code",
   "execution_count": 3,
   "metadata": {},
   "outputs": [
    {
     "output_type": "stream",
     "name": "stdout",
     "text": [
      "{\"dataset_data\":{\"limit\":null,\"transform\":null,\"column_index\":null,\"column_names\":[\"Date\",\"Open\",\"High\",\"Low\",\"Close\",\"Volume\",\"Ex-Dividend\",\"Split Ratio\",\"Adj. Open\",\"Adj. High\",\"Adj. Low\",\"Adj. Close\",\"Adj. Volume\"],\"start_date\":\"2016-06-01\",\"end_date\":\"2016-06-01\",\"frequency\":\"daily\",\"data\":[[\"2016-06-01\",118.5,119.08,117.82,118.78,15029494.0,0.0,1.0,118.5,119.08,117.82,118.78,15029494.0]],\"collapse\":null,\"order\":null}}\n"
     ]
    }
   ],
   "source": [
    "# Now, call the Quandl API and pull out a small sample of the data (only one day) to get a glimpse\n",
    "# into the JSON structure that will be returned\n",
    "database_code = 'WIKI'\n",
    "dataset_code = 'FB'\n",
    "start_date = '2016-06-01'\n",
    "end_date = '2016-06-01'\n",
    "response = requests.get(f'https://www.quandl.com/api/v3/datasets/{database_code}/{dataset_code}/data.json?start_date={start_date}&end_date={end_date}&api_key={API_KEY}')\n",
    "print(response.text)"
   ]
  },
  {
   "cell_type": "code",
   "execution_count": 4,
   "metadata": {},
   "outputs": [
    {
     "output_type": "execute_result",
     "data": {
      "text/plain": [
       "{'limit': None,\n",
       " 'transform': None,\n",
       " 'column_index': None,\n",
       " 'column_names': ['Date',\n",
       "  'Open',\n",
       "  'High',\n",
       "  'Low',\n",
       "  'Close',\n",
       "  'Volume',\n",
       "  'Ex-Dividend',\n",
       "  'Split Ratio',\n",
       "  'Adj. Open',\n",
       "  'Adj. High',\n",
       "  'Adj. Low',\n",
       "  'Adj. Close',\n",
       "  'Adj. Volume'],\n",
       " 'start_date': '2016-06-01',\n",
       " 'end_date': '2016-06-01',\n",
       " 'frequency': 'daily',\n",
       " 'data': [['2016-06-01',\n",
       "   118.5,\n",
       "   119.08,\n",
       "   117.82,\n",
       "   118.78,\n",
       "   15029494.0,\n",
       "   0.0,\n",
       "   1.0,\n",
       "   118.5,\n",
       "   119.08,\n",
       "   117.82,\n",
       "   118.78,\n",
       "   15029494.0]],\n",
       " 'collapse': None,\n",
       " 'order': None}"
      ]
     },
     "metadata": {},
     "execution_count": 4
    }
   ],
   "source": [
    "# Inspect the JSON structure of the object you created, and take note of how nested it is,\n",
    "# as well as the overall structure\n",
    "json.loads(response.text)['dataset_data']"
   ]
  },
  {
   "cell_type": "markdown",
   "metadata": {},
   "source": [
    "These are your tasks for this mini project:\n",
    "\n",
    "1. Collect data from the Franfurt Stock Exchange, for the ticker AFX_X, for the whole year 2017 (keep in mind that the date format is YYYY-MM-DD).\n",
    "2. Convert the returned JSON object into a Python dictionary.\n",
    "3. Calculate what the highest and lowest opening prices were for the stock in this period.\n",
    "4. What was the largest change in any one day (based on High and Low price)?\n",
    "5. What was the largest change between any two days (based on Closing Price)?\n",
    "6. What was the average daily trading volume during this year?\n",
    "7. (Optional) What was the median trading volume during this year. (Note: you may need to implement your own function for calculating the median.)"
   ]
  },
  {
   "cell_type": "code",
   "execution_count": 5,
   "metadata": {
    "collapsed": true,
    "tags": []
   },
   "outputs": [],
   "source": [
    "# 1. Collect data from the NASDAQ, for the ticker FB, for the whole year 2016 (keep in mind that the date format is YYYY-MM-DD).\n",
    "database_code = 'WIKI'\n",
    "dataset_code = 'FB'\n",
    "start_date = '2016-01-01'\n",
    "end_date = '2016-12-31'\n",
    "response = requests.get(f'https://www.quandl.com/api/v3/datasets/{database_code}/{dataset_code}/data.json?start_date={start_date}&end_date={end_date}&api_key={API_KEY}')"
   ]
  },
  {
   "cell_type": "code",
   "execution_count": 6,
   "metadata": {
    "tags": []
   },
   "outputs": [
    {
     "output_type": "stream",
     "name": "stdout",
     "text": [
      "<class 'dict'>\n"
     ]
    }
   ],
   "source": [
    "# 2. Convert the returned JSON object into a Python dictionary.\n",
    "columns = json.loads(response.text)['dataset_data']['column_names']\n",
    "data = json.loads(response.text)['dataset_data']['data']\n",
    "\n",
    "data_df = pd.DataFrame(data, columns=columns)\n",
    "data_dict = data_df.to_dict()\n",
    "print(type(data_dict))"
   ]
  },
  {
   "cell_type": "code",
   "execution_count": 7,
   "metadata": {},
   "outputs": [
    {
     "output_type": "stream",
     "name": "stdout",
     "text": [
      "Index(['Date', 'Open', 'High', 'Low', 'Close', 'Volume', 'Ex-Dividend',\n       'Split Ratio', 'Adj. Open', 'Adj. High', 'Adj. Low', 'Adj. Close',\n       'Adj. Volume'],\n      dtype='object')\n"
     ]
    }
   ],
   "source": [
    "print(data_df.columns)"
   ]
  },
  {
   "cell_type": "code",
   "execution_count": 8,
   "metadata": {},
   "outputs": [
    {
     "output_type": "stream",
     "name": "stdout",
     "text": [
      "Highest opening price: 133.5\nLowest opening price: 92.83\n"
     ]
    }
   ],
   "source": [
    "# 3. Calculate what the highest and lowest opening prices were for the stock in this period.\n",
    "print(\"Highest opening price:\", data_df['Open'].max())\n",
    "print(\"Lowest opening price:\", data_df['Open'].min())"
   ]
  },
  {
   "cell_type": "code",
   "execution_count": 9,
   "metadata": {},
   "outputs": [
    {
     "output_type": "stream",
     "name": "stdout",
     "text": [
      "Largest volatility in one day: 17.38\n"
     ]
    }
   ],
   "source": [
    "# 4. What was the largest change in any one day (based on High and Low price)?\n",
    "print(\"Largest volatility in one day:\", round((data_df['High'] - data_df['Low']).max(), 2))"
   ]
  },
  {
   "cell_type": "code",
   "execution_count": 10,
   "metadata": {},
   "outputs": [
    {
     "output_type": "stream",
     "name": "stdout",
     "text": [
      "Largest change of 1 day closing price: 7.17\n"
     ]
    }
   ],
   "source": [
    "# 5. What was the largest change between any two days (based on Closing Price)?\n",
    "print(\"Largest change of 1 day closing price:\", round(abs(data_df['Close'].diff().max()), 2))"
   ]
  },
  {
   "cell_type": "code",
   "execution_count": 11,
   "metadata": {},
   "outputs": [
    {
     "output_type": "stream",
     "name": "stdout",
     "text": [
      "Average daily trading volume: 25517109\n"
     ]
    }
   ],
   "source": [
    "# 6. What was the average daily trading volume during this year?\n",
    "print(\"Average daily trading volume:\", int(data_df['Volume'].mean()))"
   ]
  },
  {
   "cell_type": "code",
   "execution_count": 12,
   "metadata": {},
   "outputs": [
    {
     "output_type": "stream",
     "name": "stdout",
     "text": [
      "Median daily trading volume: 20993084\n"
     ]
    }
   ],
   "source": [
    "# 7. What was the median trading volume during this year?\n",
    "print(\"Median daily trading volume:\", int(data_df['Volume'].median()))"
   ]
  }
 ],
 "metadata": {
  "kernelspec": {
   "name": "python3",
   "display_name": "Python 3.8.3 64-bit ('base': conda)"
  },
  "language_info": {
   "codemirror_mode": {
    "name": "ipython",
    "version": 3
   },
   "file_extension": ".py",
   "mimetype": "text/x-python",
   "name": "python",
   "nbconvert_exporter": "python",
   "pygments_lexer": "ipython3",
   "version": "3.8.3"
  },
  "interpreter": {
   "hash": "26f500bea960201299c4c20ec459f8fa4fcde4b86dbf4a5ec1eaa7e722cd4835"
  }
 },
 "nbformat": 4,
 "nbformat_minor": 2
}