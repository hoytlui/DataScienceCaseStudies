{
 "cells": [
  {
   "cell_type": "code",
   "execution_count": 1,
   "metadata": {
    "scrolled": true
   },
   "outputs": [],
   "source": [
    "import sqlite3\n",
    "from sqlite3 import Error\n",
    "\n",
    " \n",
    "def create_connection(db_file):\n",
    "    \"\"\" create a database connection to the SQLite database\n",
    "        specified by the db_file\n",
    "    :param db_file: database file\n",
    "    :return: Connection object or None\n",
    "    \"\"\"\n",
    "    conn = None\n",
    "    try:\n",
    "        conn = sqlite3.connect(db_file)\n",
    "        print(sqlite3.version)\n",
    "    except Error as e:\n",
    "        print(e)\n",
    " \n",
    "    return conn\n",
    "\n",
    "\n",
    "def select_all_tasks(conn):\n",
    "    \"\"\"\n",
    "    Query all rows in the tasks table\n",
    "    :param conn: the Connection object\n",
    "    :return:\n",
    "    \"\"\"\n",
    "    cur = conn.cursor()\n",
    "    \n",
    "    cur.execute(query1)\n",
    " \n",
    "    rows = cur.fetchall()\n",
    " \n",
    "    for row in rows:\n",
    "        print(row)\n",
    "\n",
    "\n",
    "def main():\n",
    "    database = \"sqlite_db_pythonsqlite.db\"\n",
    " \n",
    "    # create a database connection\n",
    "    conn = create_connection(database)\n",
    "    with conn: \n",
    "        print(\"2. Query all tasks\")\n",
    "        select_all_tasks(conn)\n"
   ]
  },
  {
   "cell_type": "code",
   "execution_count": 2,
   "metadata": {},
   "outputs": [
    {
     "name": "stdout",
     "output_type": "stream",
     "text": [
      "2.6.0\n",
      "2. Query all tasks\n",
      "(0, 'Tennis Court 1', 5, 25, 10000, 200)\n",
      "(1, 'Tennis Court 2', 5, 25, 8000, 200)\n",
      "(2, 'Badminton Court', 0, 15.5, 4000, 50)\n",
      "(3, 'Table Tennis', 0, 5, 320, 10)\n",
      "(4, 'Massage Room 1', 9.9, 80, 4000, 3000)\n"
     ]
    }
   ],
   "source": [
    "# check Facilities\n",
    "query1 = \"\"\"\n",
    "    SELECT *\n",
    "    FROM Facilities\n",
    "    LIMIT 5;\n",
    "    \"\"\"\n",
    "if __name__ == '__main__':\n",
    "    main()"
   ]
  },
  {
   "cell_type": "code",
   "execution_count": 3,
   "metadata": {},
   "outputs": [
    {
     "name": "stdout",
     "output_type": "stream",
     "text": [
      "2.6.0\n",
      "2. Query all tasks\n",
      "(0, 3, 1, '2012-07-03 11:00:00', 2)\n",
      "(1, 4, 1, '2012-07-03 08:00:00', 2)\n",
      "(2, 6, 0, '2012-07-03 18:00:00', 2)\n",
      "(3, 7, 1, '2012-07-03 19:00:00', 2)\n",
      "(4, 8, 1, '2012-07-03 10:00:00', 1)\n"
     ]
    }
   ],
   "source": [
    "# check Bookings\n",
    "query1 = \"\"\"\n",
    "    SELECT *\n",
    "    FROM Bookings\n",
    "    LIMIT 5;\n",
    "    \"\"\"\n",
    "if __name__ == '__main__':\n",
    "    main()"
   ]
  },
  {
   "cell_type": "code",
   "execution_count": 4,
   "metadata": {},
   "outputs": [
    {
     "name": "stdout",
     "output_type": "stream",
     "text": [
      "2.6.0\n",
      "2. Query all tasks\n",
      "(0, 'GUEST', 'GUEST', 'GUEST', 0, '(000) 000-0000', '', '2012-07-01 00:00:00')\n",
      "(1, 'Smith', 'Darren', '8 Bloomsbury Close, Boston', 4321, '555-555-5555', '', '2012-07-02 12:02:05')\n",
      "(2, 'Smith', 'Tracy', '8 Bloomsbury Close, New York', 4321, '555-555-5555', '', '2012-07-02 12:08:23')\n",
      "(3, 'Rownam', 'Tim', '23 Highway Way, Boston', 23423, '(844) 693-0723', '', '2012-07-03 09:32:15')\n",
      "(4, 'Joplette', 'Janice', '20 Crossing Road, New York', 234, '(833) 942-4710', '1', '2012-07-03 10:25:05')\n"
     ]
    }
   ],
   "source": [
    "# check Members\n",
    "query1 = \"\"\"\n",
    "    SELECT *\n",
    "    FROM Members\n",
    "    LIMIT 5;\n",
    "    \"\"\"\n",
    "if __name__ == '__main__':\n",
    "    main()"
   ]
  },
  {
   "cell_type": "markdown",
   "metadata": {},
   "source": [
    "Q1: Some of the facilities charge a fee to members, but some do not.\n",
    "Write a SQL query to produce a list of the names of the facilities that do."
   ]
  },
  {
   "cell_type": "code",
   "execution_count": 5,
   "metadata": {},
   "outputs": [
    {
     "name": "stdout",
     "output_type": "stream",
     "text": [
      "2.6.0\n",
      "2. Query all tasks\n",
      "('Tennis Court 1', 5)\n",
      "('Tennis Court 2', 5)\n",
      "('Massage Room 1', 9.9)\n",
      "('Massage Room 2', 9.9)\n",
      "('Squash Court', 3.5)\n"
     ]
    }
   ],
   "source": [
    "query1 = \"\"\"\n",
    "SELECT name, membercost\n",
    "FROM Facilities\n",
    "WHERE membercost != 0;\n",
    "\"\"\"\n",
    "if __name__ == '__main__':\n",
    "    main()"
   ]
  },
  {
   "cell_type": "markdown",
   "metadata": {},
   "source": [
    "Q2: How many facilities do not charge a fee to members?"
   ]
  },
  {
   "cell_type": "code",
   "execution_count": 6,
   "metadata": {},
   "outputs": [
    {
     "name": "stdout",
     "output_type": "stream",
     "text": [
      "2.6.0\n",
      "2. Query all tasks\n",
      "(4,)\n"
     ]
    }
   ],
   "source": [
    "query1 = \"\"\"\n",
    "SELECT count(name)\n",
    "FROM Facilities\n",
    "WHERE membercost = 0;\n",
    "\"\"\"\n",
    "if __name__ == '__main__':\n",
    "    main()"
   ]
  },
  {
   "cell_type": "markdown",
   "metadata": {},
   "source": [
    "Q3: Write an SQL query to show a list of facilities that charge a fee to members,\n",
    "where the fee is less than 20% of the facility's monthly maintenance cost.\n",
    "Return the facid, facility name, member cost, and monthly maintenance of the\n",
    "facilities in question."
   ]
  },
  {
   "cell_type": "code",
   "execution_count": 7,
   "metadata": {},
   "outputs": [
    {
     "name": "stdout",
     "output_type": "stream",
     "text": [
      "2.6.0\n",
      "2. Query all tasks\n",
      "(0, 'Tennis Court 1', 5, 200)\n",
      "(1, 'Tennis Court 2', 5, 200)\n",
      "(4, 'Massage Room 1', 9.9, 3000)\n",
      "(5, 'Massage Room 2', 9.9, 3000)\n",
      "(6, 'Squash Court', 3.5, 80)\n"
     ]
    }
   ],
   "source": [
    "query1 = \"\"\"\n",
    "SELECT facid, name, membercost, monthlymaintenance\n",
    "FROM Facilities\n",
    "WHERE membercost != 0 AND membercost < (monthlymaintenance * 0.2);\n",
    "\"\"\"\n",
    "if __name__ == '__main__':\n",
    "    main()"
   ]
  },
  {
   "cell_type": "markdown",
   "metadata": {},
   "source": [
    "Q4: Write an SQL query to retrieve the details of facilities with ID 1 and 5.\n",
    "Try writing the query without using the OR operator."
   ]
  },
  {
   "cell_type": "code",
   "execution_count": 8,
   "metadata": {},
   "outputs": [
    {
     "name": "stdout",
     "output_type": "stream",
     "text": [
      "2.6.0\n",
      "2. Query all tasks\n",
      "(1, 'Tennis Court 2', 5, 25, 8000, 200)\n",
      "(5, 'Massage Room 2', 9.9, 80, 4000, 3000)\n"
     ]
    }
   ],
   "source": [
    "query1 = \"\"\"\n",
    "SELECT *\n",
    "FROM Facilities\n",
    "WHERE facid IN (1, 5);\n",
    "\"\"\"\n",
    "if __name__ == '__main__':\n",
    "    main()"
   ]
  },
  {
   "cell_type": "markdown",
   "metadata": {},
   "source": [
    "Q5: Produce a list of facilities, with each labelled as\n",
    "'cheap' or 'expensive', depending on if their monthly maintenance cost is\n",
    "more than $100. Return the name and monthly maintenance of the facilities\n",
    "in question."
   ]
  },
  {
   "cell_type": "code",
   "execution_count": 9,
   "metadata": {},
   "outputs": [
    {
     "name": "stdout",
     "output_type": "stream",
     "text": [
      "2.6.0\n",
      "2. Query all tasks\n",
      "('Tennis Court 1', 200, 'expensive')\n",
      "('Tennis Court 2', 200, 'expensive')\n",
      "('Badminton Court', 50, 'cheap')\n",
      "('Table Tennis', 10, 'cheap')\n",
      "('Massage Room 1', 3000, 'expensive')\n",
      "('Massage Room 2', 3000, 'expensive')\n",
      "('Squash Court', 80, 'cheap')\n",
      "('Snooker Table', 15, 'cheap')\n",
      "('Pool Table', 15, 'cheap')\n"
     ]
    }
   ],
   "source": [
    "query1 = \"\"\"\n",
    "SELECT\n",
    "\tname,\n",
    "\tmonthlymaintenance,\n",
    "\tCASE WHEN monthlymaintenance > 100 THEN 'expensive'\n",
    "\t     ELSE 'cheap' END AS cost\n",
    "FROM Facilities;\n",
    "\"\"\"\n",
    "if __name__ == '__main__':\n",
    "    main()"
   ]
  },
  {
   "cell_type": "markdown",
   "metadata": {},
   "source": [
    "Q6: You'd like to get the first and last name of the last member(s)\n",
    "who signed up. Try not to use the LIMIT clause for your solution."
   ]
  },
  {
   "cell_type": "code",
   "execution_count": 10,
   "metadata": {},
   "outputs": [
    {
     "name": "stdout",
     "output_type": "stream",
     "text": [
      "2.6.0\n",
      "2. Query all tasks\n",
      "('Darren', 'Smith', '2012-09-26 18:08:45')\n",
      "('Erica', 'Crumpet', '2012-09-22 08:36:38')\n",
      "('John', 'Hunt', '2012-09-19 11:32:45')\n",
      "('Hyacinth', 'Tupperware', '2012-09-18 19:32:05')\n",
      "('Millicent', 'Purview', '2012-09-18 19:04:01')\n",
      "('Henry', 'Worthington-Smyth', '2012-09-17 12:27:15')\n",
      "('David', 'Farrell', '2012-09-15 08:22:05')\n",
      "('Henrietta', 'Rumney', '2012-09-05 08:42:35')\n",
      "('Douglas', 'Jones', '2012-09-02 18:43:05')\n",
      "('Ramnaresh', 'Sarwin', '2012-09-01 08:44:42')\n",
      "('Joan', 'Coplin', '2012-08-29 08:32:41')\n",
      "('Anna', 'Mackenzie', '2012-08-26 09:32:05')\n",
      "('Matthew', 'Genting', '2012-08-19 14:55:55')\n",
      "('David', 'Pinker', '2012-08-16 11:32:47')\n",
      "('Timothy', 'Baker', '2012-08-15 10:34:25')\n",
      "('Florence', 'Bader', '2012-08-10 17:52:03')\n",
      "('Jack', 'Smith', '2012-08-10 16:22:05')\n",
      "('Jemima', 'Farrell', '2012-08-10 14:28:01')\n",
      "('Anne', 'Baker', '2012-08-10 14:23:22')\n",
      "('David', 'Jones', '2012-08-06 16:32:55')\n",
      "('Charles', 'Owen', '2012-08-03 19:42:37')\n",
      "('Ponder', 'Stibbons', '2012-07-25 17:09:05')\n",
      "('Tim', 'Boothe', '2012-07-25 16:02:35')\n",
      "('Nancy', 'Dare', '2012-07-25 08:59:12')\n",
      "('Burton', 'Tracy', '2012-07-15 08:52:55')\n",
      "('Gerald', 'Butters', '2012-07-09 10:44:09')\n",
      "('Janice', 'Joplette', '2012-07-03 10:25:05')\n",
      "('Tim', 'Rownam', '2012-07-03 09:32:15')\n",
      "('Tracy', 'Smith', '2012-07-02 12:08:23')\n",
      "('Darren', 'Smith', '2012-07-02 12:02:05')\n",
      "('GUEST', 'GUEST', '2012-07-01 00:00:00')\n"
     ]
    }
   ],
   "source": [
    "query1 = \"\"\"\n",
    "SELECT firstname, surname, joindate\n",
    "FROM Members\n",
    "ORDER BY joindate DESC;\n",
    "\"\"\"\n",
    "if __name__ == '__main__':\n",
    "    main()"
   ]
  },
  {
   "cell_type": "markdown",
   "metadata": {},
   "source": [
    "Q7: Produce a list of all members who have used a tennis court.\n",
    "Include in your output the name of the court, and the name of the member\n",
    "formatted as a single column. Ensure no duplicate data, and order by\n",
    "the member name."
   ]
  },
  {
   "cell_type": "code",
   "execution_count": 11,
   "metadata": {},
   "outputs": [
    {
     "name": "stdout",
     "output_type": "stream",
     "text": [
      "2.6.0\n",
      "2. Query all tasks\n"
     ]
    },
    {
     "ename": "OperationalError",
     "evalue": "no such function: concat",
     "output_type": "error",
     "traceback": [
      "\u001b[0;31m---------------------------------------------------------------------------\u001b[0m",
      "\u001b[0;31mOperationalError\u001b[0m                          Traceback (most recent call last)",
      "\u001b[0;32m<ipython-input-11-d9de3ae69ce7>\u001b[0m in \u001b[0;36m<module>\u001b[0;34m\u001b[0m\n\u001b[1;32m     11\u001b[0m \"\"\"\n\u001b[1;32m     12\u001b[0m \u001b[0;32mif\u001b[0m \u001b[0m__name__\u001b[0m \u001b[0;34m==\u001b[0m \u001b[0;34m'__main__'\u001b[0m\u001b[0;34m:\u001b[0m\u001b[0;34m\u001b[0m\u001b[0;34m\u001b[0m\u001b[0m\n\u001b[0;32m---> 13\u001b[0;31m     \u001b[0mmain\u001b[0m\u001b[0;34m(\u001b[0m\u001b[0;34m)\u001b[0m\u001b[0;34m\u001b[0m\u001b[0;34m\u001b[0m\u001b[0m\n\u001b[0m",
      "\u001b[0;32m<ipython-input-1-73204c03ada5>\u001b[0m in \u001b[0;36mmain\u001b[0;34m()\u001b[0m\n\u001b[1;32m     42\u001b[0m     \u001b[0;32mwith\u001b[0m \u001b[0mconn\u001b[0m\u001b[0;34m:\u001b[0m\u001b[0;34m\u001b[0m\u001b[0;34m\u001b[0m\u001b[0m\n\u001b[1;32m     43\u001b[0m         \u001b[0mprint\u001b[0m\u001b[0;34m(\u001b[0m\u001b[0;34m\"2. Query all tasks\"\u001b[0m\u001b[0;34m)\u001b[0m\u001b[0;34m\u001b[0m\u001b[0;34m\u001b[0m\u001b[0m\n\u001b[0;32m---> 44\u001b[0;31m         \u001b[0mselect_all_tasks\u001b[0m\u001b[0;34m(\u001b[0m\u001b[0mconn\u001b[0m\u001b[0;34m)\u001b[0m\u001b[0;34m\u001b[0m\u001b[0;34m\u001b[0m\u001b[0m\n\u001b[0m",
      "\u001b[0;32m<ipython-input-1-73204c03ada5>\u001b[0m in \u001b[0;36mselect_all_tasks\u001b[0;34m(conn)\u001b[0m\n\u001b[1;32m     27\u001b[0m     \u001b[0mcur\u001b[0m \u001b[0;34m=\u001b[0m \u001b[0mconn\u001b[0m\u001b[0;34m.\u001b[0m\u001b[0mcursor\u001b[0m\u001b[0;34m(\u001b[0m\u001b[0;34m)\u001b[0m\u001b[0;34m\u001b[0m\u001b[0;34m\u001b[0m\u001b[0m\n\u001b[1;32m     28\u001b[0m \u001b[0;34m\u001b[0m\u001b[0m\n\u001b[0;32m---> 29\u001b[0;31m     \u001b[0mcur\u001b[0m\u001b[0;34m.\u001b[0m\u001b[0mexecute\u001b[0m\u001b[0;34m(\u001b[0m\u001b[0mquery1\u001b[0m\u001b[0;34m)\u001b[0m\u001b[0;34m\u001b[0m\u001b[0;34m\u001b[0m\u001b[0m\n\u001b[0m\u001b[1;32m     30\u001b[0m \u001b[0;34m\u001b[0m\u001b[0m\n\u001b[1;32m     31\u001b[0m     \u001b[0mrows\u001b[0m \u001b[0;34m=\u001b[0m \u001b[0mcur\u001b[0m\u001b[0;34m.\u001b[0m\u001b[0mfetchall\u001b[0m\u001b[0;34m(\u001b[0m\u001b[0;34m)\u001b[0m\u001b[0;34m\u001b[0m\u001b[0;34m\u001b[0m\u001b[0m\n",
      "\u001b[0;31mOperationalError\u001b[0m: no such function: concat"
     ]
    }
   ],
   "source": [
    "query1 = \"\"\"\n",
    "SELECT DISTINCT *\n",
    "FROM (\n",
    "    SELECT name AS facility_name, concat(firstname, ' ', surname) AS member_name\n",
    "    FROM Members\n",
    "    INNER JOIN Bookings USING (memid)\n",
    "    INNER JOIN Facilities USING (facid)\n",
    "\tWHERE name LIKE 'Tennis%') AS subquery\n",
    "WHERE member_name <> 'GUEST GUEST'\n",
    "ORDER BY member_name;\n",
    "\"\"\"\n",
    "if __name__ == '__main__':\n",
    "    main()"
   ]
  },
  {
   "cell_type": "markdown",
   "metadata": {},
   "source": [
    "Q8: Produce a list of bookings on the day of 2012-09-14 which\n",
    "will cost the member (or guest) more than $30. Remember that guests have\n",
    "different costs to members (the listed costs are per half-hour 'slot'), and\n",
    "the guest user's ID is always 0. Include in your output the name of the\n",
    "facility, the name of the member formatted as a single column, and the cost.\n",
    "Order by descending cost, and do not use any subqueries."
   ]
  },
  {
   "cell_type": "code",
   "execution_count": 12,
   "metadata": {},
   "outputs": [
    {
     "name": "stdout",
     "output_type": "stream",
     "text": [
      "2.6.0\n",
      "2. Query all tasks\n"
     ]
    },
    {
     "ename": "OperationalError",
     "evalue": "no such function: concat",
     "output_type": "error",
     "traceback": [
      "\u001b[0;31m---------------------------------------------------------------------------\u001b[0m",
      "\u001b[0;31mOperationalError\u001b[0m                          Traceback (most recent call last)",
      "\u001b[0;32m<ipython-input-12-0f41548e5389>\u001b[0m in \u001b[0;36m<module>\u001b[0;34m\u001b[0m\n\u001b[1;32m     13\u001b[0m \"\"\"\n\u001b[1;32m     14\u001b[0m \u001b[0;32mif\u001b[0m \u001b[0m__name__\u001b[0m \u001b[0;34m==\u001b[0m \u001b[0;34m'__main__'\u001b[0m\u001b[0;34m:\u001b[0m\u001b[0;34m\u001b[0m\u001b[0;34m\u001b[0m\u001b[0m\n\u001b[0;32m---> 15\u001b[0;31m     \u001b[0mmain\u001b[0m\u001b[0;34m(\u001b[0m\u001b[0;34m)\u001b[0m\u001b[0;34m\u001b[0m\u001b[0;34m\u001b[0m\u001b[0m\n\u001b[0m",
      "\u001b[0;32m<ipython-input-1-73204c03ada5>\u001b[0m in \u001b[0;36mmain\u001b[0;34m()\u001b[0m\n\u001b[1;32m     42\u001b[0m     \u001b[0;32mwith\u001b[0m \u001b[0mconn\u001b[0m\u001b[0;34m:\u001b[0m\u001b[0;34m\u001b[0m\u001b[0;34m\u001b[0m\u001b[0m\n\u001b[1;32m     43\u001b[0m         \u001b[0mprint\u001b[0m\u001b[0;34m(\u001b[0m\u001b[0;34m\"2. Query all tasks\"\u001b[0m\u001b[0;34m)\u001b[0m\u001b[0;34m\u001b[0m\u001b[0;34m\u001b[0m\u001b[0m\n\u001b[0;32m---> 44\u001b[0;31m         \u001b[0mselect_all_tasks\u001b[0m\u001b[0;34m(\u001b[0m\u001b[0mconn\u001b[0m\u001b[0;34m)\u001b[0m\u001b[0;34m\u001b[0m\u001b[0;34m\u001b[0m\u001b[0m\n\u001b[0m",
      "\u001b[0;32m<ipython-input-1-73204c03ada5>\u001b[0m in \u001b[0;36mselect_all_tasks\u001b[0;34m(conn)\u001b[0m\n\u001b[1;32m     27\u001b[0m     \u001b[0mcur\u001b[0m \u001b[0;34m=\u001b[0m \u001b[0mconn\u001b[0m\u001b[0;34m.\u001b[0m\u001b[0mcursor\u001b[0m\u001b[0;34m(\u001b[0m\u001b[0;34m)\u001b[0m\u001b[0;34m\u001b[0m\u001b[0;34m\u001b[0m\u001b[0m\n\u001b[1;32m     28\u001b[0m \u001b[0;34m\u001b[0m\u001b[0m\n\u001b[0;32m---> 29\u001b[0;31m     \u001b[0mcur\u001b[0m\u001b[0;34m.\u001b[0m\u001b[0mexecute\u001b[0m\u001b[0;34m(\u001b[0m\u001b[0mquery1\u001b[0m\u001b[0;34m)\u001b[0m\u001b[0;34m\u001b[0m\u001b[0;34m\u001b[0m\u001b[0m\n\u001b[0m\u001b[1;32m     30\u001b[0m \u001b[0;34m\u001b[0m\u001b[0m\n\u001b[1;32m     31\u001b[0m     \u001b[0mrows\u001b[0m \u001b[0;34m=\u001b[0m \u001b[0mcur\u001b[0m\u001b[0;34m.\u001b[0m\u001b[0mfetchall\u001b[0m\u001b[0;34m(\u001b[0m\u001b[0;34m)\u001b[0m\u001b[0;34m\u001b[0m\u001b[0;34m\u001b[0m\u001b[0m\n",
      "\u001b[0;31mOperationalError\u001b[0m: no such function: concat"
     ]
    }
   ],
   "source": [
    "query1 = \"\"\"\n",
    "SELECT\n",
    "\tname AS facility_name, \n",
    "\tconcat(firstname, ' ', surname) AS member_name,\n",
    "\tCASE WHEN memid = 0 THEN (slots * guestcost)\n",
    "\t\tELSE (slots * membercost) END AS total_cost\n",
    "FROM Bookings\n",
    "LEFT JOIN Facilities USING (facid)\n",
    "LEFT JOIN Members USING (memid)\n",
    "WHERE DATE(starttime) = '2012-09-14'\n",
    "HAVING total_cost > 30\n",
    "ORDER BY total_cost DESC;\n",
    "\"\"\"\n",
    "if __name__ == '__main__':\n",
    "    main()"
   ]
  },
  {
   "cell_type": "markdown",
   "metadata": {},
   "source": [
    "Q9: This time, produce the same result as in Q8, but using a subquery."
   ]
  },
  {
   "cell_type": "code",
   "execution_count": 13,
   "metadata": {},
   "outputs": [
    {
     "name": "stdout",
     "output_type": "stream",
     "text": [
      "2.6.0\n",
      "2. Query all tasks\n"
     ]
    },
    {
     "ename": "OperationalError",
     "evalue": "no such function: concat",
     "output_type": "error",
     "traceback": [
      "\u001b[0;31m---------------------------------------------------------------------------\u001b[0m",
      "\u001b[0;31mOperationalError\u001b[0m                          Traceback (most recent call last)",
      "\u001b[0;32m<ipython-input-13-cab4d69f080f>\u001b[0m in \u001b[0;36m<module>\u001b[0;34m\u001b[0m\n\u001b[1;32m     16\u001b[0m \"\"\"\n\u001b[1;32m     17\u001b[0m \u001b[0;32mif\u001b[0m \u001b[0m__name__\u001b[0m \u001b[0;34m==\u001b[0m \u001b[0;34m'__main__'\u001b[0m\u001b[0;34m:\u001b[0m\u001b[0;34m\u001b[0m\u001b[0;34m\u001b[0m\u001b[0m\n\u001b[0;32m---> 18\u001b[0;31m     \u001b[0mmain\u001b[0m\u001b[0;34m(\u001b[0m\u001b[0;34m)\u001b[0m\u001b[0;34m\u001b[0m\u001b[0;34m\u001b[0m\u001b[0m\n\u001b[0m",
      "\u001b[0;32m<ipython-input-1-73204c03ada5>\u001b[0m in \u001b[0;36mmain\u001b[0;34m()\u001b[0m\n\u001b[1;32m     42\u001b[0m     \u001b[0;32mwith\u001b[0m \u001b[0mconn\u001b[0m\u001b[0;34m:\u001b[0m\u001b[0;34m\u001b[0m\u001b[0;34m\u001b[0m\u001b[0m\n\u001b[1;32m     43\u001b[0m         \u001b[0mprint\u001b[0m\u001b[0;34m(\u001b[0m\u001b[0;34m\"2. Query all tasks\"\u001b[0m\u001b[0;34m)\u001b[0m\u001b[0;34m\u001b[0m\u001b[0;34m\u001b[0m\u001b[0m\n\u001b[0;32m---> 44\u001b[0;31m         \u001b[0mselect_all_tasks\u001b[0m\u001b[0;34m(\u001b[0m\u001b[0mconn\u001b[0m\u001b[0;34m)\u001b[0m\u001b[0;34m\u001b[0m\u001b[0;34m\u001b[0m\u001b[0m\n\u001b[0m",
      "\u001b[0;32m<ipython-input-1-73204c03ada5>\u001b[0m in \u001b[0;36mselect_all_tasks\u001b[0;34m(conn)\u001b[0m\n\u001b[1;32m     27\u001b[0m     \u001b[0mcur\u001b[0m \u001b[0;34m=\u001b[0m \u001b[0mconn\u001b[0m\u001b[0;34m.\u001b[0m\u001b[0mcursor\u001b[0m\u001b[0;34m(\u001b[0m\u001b[0;34m)\u001b[0m\u001b[0;34m\u001b[0m\u001b[0;34m\u001b[0m\u001b[0m\n\u001b[1;32m     28\u001b[0m \u001b[0;34m\u001b[0m\u001b[0m\n\u001b[0;32m---> 29\u001b[0;31m     \u001b[0mcur\u001b[0m\u001b[0;34m.\u001b[0m\u001b[0mexecute\u001b[0m\u001b[0;34m(\u001b[0m\u001b[0mquery1\u001b[0m\u001b[0;34m)\u001b[0m\u001b[0;34m\u001b[0m\u001b[0;34m\u001b[0m\u001b[0m\n\u001b[0m\u001b[1;32m     30\u001b[0m \u001b[0;34m\u001b[0m\u001b[0m\n\u001b[1;32m     31\u001b[0m     \u001b[0mrows\u001b[0m \u001b[0;34m=\u001b[0m \u001b[0mcur\u001b[0m\u001b[0;34m.\u001b[0m\u001b[0mfetchall\u001b[0m\u001b[0;34m(\u001b[0m\u001b[0;34m)\u001b[0m\u001b[0;34m\u001b[0m\u001b[0;34m\u001b[0m\u001b[0m\n",
      "\u001b[0;31mOperationalError\u001b[0m: no such function: concat"
     ]
    }
   ],
   "source": [
    "query1 = \"\"\"\n",
    "SELECT *\n",
    "FROM (\n",
    "    SELECT \n",
    "    \tname AS facility_name, \n",
    "    \tconcat(firstname, ' ', surname) AS member_name,\n",
    "\t\tCASE WHEN memid = 0 THEN (slots * guestcost)\n",
    "\t\t\tELSE (slots * membercost) END AS total_cost\n",
    "\t\tFROM Bookings\n",
    "\t\tLEFT JOIN Facilities USING (facid)\n",
    "\t\tLEFT JOIN Members USING (memid)\n",
    "\t\tWHERE DATE(starttime) = '2012-09-14'\n",
    "    ) AS subquery\n",
    "HAVING total_cost > 30\n",
    "ORDER BY total_cost DESC;\n",
    "\"\"\"\n",
    "if __name__ == '__main__':\n",
    "    main()"
   ]
  },
  {
   "cell_type": "markdown",
   "metadata": {},
   "source": [
    "Q10: Produce a list of facilities with a total revenue less than 1000.\n",
    "The output of facility name and total revenue, sorted by revenue. Remember\n",
    "that there's a different cost for guests and members!"
   ]
  },
  {
   "cell_type": "code",
   "execution_count": 14,
   "metadata": {},
   "outputs": [
    {
     "name": "stdout",
     "output_type": "stream",
     "text": [
      "2.6.0\n",
      "2. Query all tasks\n",
      "('Table Tennis', 180)\n",
      "('Snooker Table', 240)\n",
      "('Pool Table', 270)\n"
     ]
    }
   ],
   "source": [
    "query1 = \"\"\"\n",
    "SELECT\n",
    "\tsubquery.name AS facility_name,\n",
    "\tsum(subquery.revenue) AS total_rev\n",
    "\tFROM (\n",
    "        SELECT name,\n",
    "        \tCASE WHEN memid != 0 THEN slots * membercost\n",
    "\t\t \t\t ELSE slots * guestcost END AS revenue\n",
    "       \tFROM Facilities\n",
    "        INNER JOIN Bookings USING (facid)) AS subquery\n",
    "GROUP BY name\n",
    "HAVING total_rev < 1000\n",
    "ORDER BY total_rev;\n",
    "\"\"\"\n",
    "if __name__ == '__main__':\n",
    "    main()"
   ]
  },
  {
   "cell_type": "markdown",
   "metadata": {},
   "source": [
    "Q11: Produce a report of members and who recommended them in alphabetic surname, firstname order."
   ]
  },
  {
   "cell_type": "code",
   "execution_count": 15,
   "metadata": {},
   "outputs": [
    {
     "name": "stdout",
     "output_type": "stream",
     "text": [
      "2.6.0\n",
      "2. Query all tasks\n",
      "('Stibbons', 'Ponder', 'Bader', 'Florence')\n",
      "('Stibbons', 'Ponder', 'Baker', 'Anne')\n",
      "('Farrell', 'Jemima', 'Baker', 'Timothy')\n",
      "('Rownam', 'Tim', 'Boothe', 'Tim')\n",
      "('Smith', 'Darren', 'Butters', 'Gerald')\n",
      "('Baker', 'Timothy', 'Coplin', 'Joan')\n",
      "('Smith', 'Tracy', 'Crumpet', 'Erica')\n",
      "('Joplette', 'Janice', 'Dare', 'Nancy')\n",
      "('Butters', 'Gerald', 'Genting', 'Matthew')\n",
      "('Purview', 'Millicent', 'Hunt', 'John')\n",
      "('Joplette', 'Janice', 'Jones', 'David')\n",
      "('Jones', 'David', 'Jones', 'Douglas')\n",
      "('Smith', 'Darren', 'Joplette', 'Janice')\n",
      "('Smith', 'Darren', 'Mackenzie', 'Anna')\n",
      "('Smith', 'Darren', 'Owen', 'Charles')\n",
      "('Farrell', 'Jemima', 'Pinker', 'David')\n",
      "('Smith', 'Tracy', 'Purview', 'Millicent')\n",
      "('Genting', 'Matthew', 'Rumney', 'Henrietta')\n",
      "('Bader', 'Florence', 'Sarwin', 'Ramnaresh')\n",
      "('Smith', 'Darren', 'Smith', 'Jack')\n",
      "('Tracy', 'Burton', 'Stibbons', 'Ponder')\n",
      "('Smith', 'Tracy', 'Worthington-Smyth', 'Henry')\n"
     ]
    }
   ],
   "source": [
    "query1 = \"\"\"\n",
    "SELECT\n",
    "\ta.surname, a.firstname, b.surname AS recommended_by_surname, b.firstname\t\n",
    "FROM Members AS a\n",
    "INNER JOIN Members AS b\n",
    "ON a.memid = b.recommendedby\n",
    "WHERE a.memid != 0\n",
    "ORDER BY recommended_by_surname;\n",
    "\"\"\"\n",
    "if __name__ == '__main__':\n",
    "    main()"
   ]
  },
  {
   "cell_type": "markdown",
   "metadata": {},
   "source": [
    "Q12: Find the facilities with their usage by member, but not guests."
   ]
  },
  {
   "cell_type": "code",
   "execution_count": 16,
   "metadata": {},
   "outputs": [
    {
     "name": "stdout",
     "output_type": "stream",
     "text": [
      "2.6.0\n",
      "2. Query all tasks\n",
      "('Badminton Court', 1086)\n",
      "('Tennis Court 1', 957)\n",
      "('Massage Room 1', 884)\n",
      "('Tennis Court 2', 882)\n",
      "('Snooker Table', 860)\n",
      "('Pool Table', 856)\n",
      "('Table Tennis', 794)\n",
      "('Squash Court', 418)\n",
      "('Massage Room 2', 54)\n"
     ]
    }
   ],
   "source": [
    "query1 = \"\"\"\n",
    "SELECT\n",
    "\tname,\n",
    "\tsum(slots) AS total_slots\n",
    "FROM Facilities\n",
    "LEFT JOIN Bookings USING (facid)\n",
    "LEFT JOIN Members USING (memid)\n",
    "WHERE memid != 0\n",
    "GROUP BY name\n",
    "ORDER BY total_slots DESC;\n",
    "\"\"\"\n",
    "if __name__ == '__main__':\n",
    "    main()"
   ]
  },
  {
   "cell_type": "markdown",
   "metadata": {},
   "source": [
    "Q13: Find the facilities usage by month, but not guests."
   ]
  },
  {
   "cell_type": "code",
   "execution_count": 17,
   "metadata": {
    "scrolled": true
   },
   "outputs": [
    {
     "name": "stdout",
     "output_type": "stream",
     "text": [
      "2.6.0\n",
      "2. Query all tasks\n"
     ]
    },
    {
     "ename": "OperationalError",
     "evalue": "no such function: MONTH",
     "output_type": "error",
     "traceback": [
      "\u001b[0;31m---------------------------------------------------------------------------\u001b[0m",
      "\u001b[0;31mOperationalError\u001b[0m                          Traceback (most recent call last)",
      "\u001b[0;32m<ipython-input-17-2e75c912b9b1>\u001b[0m in \u001b[0;36m<module>\u001b[0;34m\u001b[0m\n\u001b[1;32m     10\u001b[0m \"\"\"\n\u001b[1;32m     11\u001b[0m \u001b[0;32mif\u001b[0m \u001b[0m__name__\u001b[0m \u001b[0;34m==\u001b[0m \u001b[0;34m'__main__'\u001b[0m\u001b[0;34m:\u001b[0m\u001b[0;34m\u001b[0m\u001b[0;34m\u001b[0m\u001b[0m\n\u001b[0;32m---> 12\u001b[0;31m     \u001b[0mmain\u001b[0m\u001b[0;34m(\u001b[0m\u001b[0;34m)\u001b[0m\u001b[0;34m\u001b[0m\u001b[0;34m\u001b[0m\u001b[0m\n\u001b[0m",
      "\u001b[0;32m<ipython-input-1-73204c03ada5>\u001b[0m in \u001b[0;36mmain\u001b[0;34m()\u001b[0m\n\u001b[1;32m     42\u001b[0m     \u001b[0;32mwith\u001b[0m \u001b[0mconn\u001b[0m\u001b[0;34m:\u001b[0m\u001b[0;34m\u001b[0m\u001b[0;34m\u001b[0m\u001b[0m\n\u001b[1;32m     43\u001b[0m         \u001b[0mprint\u001b[0m\u001b[0;34m(\u001b[0m\u001b[0;34m\"2. Query all tasks\"\u001b[0m\u001b[0;34m)\u001b[0m\u001b[0;34m\u001b[0m\u001b[0;34m\u001b[0m\u001b[0m\n\u001b[0;32m---> 44\u001b[0;31m         \u001b[0mselect_all_tasks\u001b[0m\u001b[0;34m(\u001b[0m\u001b[0mconn\u001b[0m\u001b[0;34m)\u001b[0m\u001b[0;34m\u001b[0m\u001b[0;34m\u001b[0m\u001b[0m\n\u001b[0m",
      "\u001b[0;32m<ipython-input-1-73204c03ada5>\u001b[0m in \u001b[0;36mselect_all_tasks\u001b[0;34m(conn)\u001b[0m\n\u001b[1;32m     27\u001b[0m     \u001b[0mcur\u001b[0m \u001b[0;34m=\u001b[0m \u001b[0mconn\u001b[0m\u001b[0;34m.\u001b[0m\u001b[0mcursor\u001b[0m\u001b[0;34m(\u001b[0m\u001b[0;34m)\u001b[0m\u001b[0;34m\u001b[0m\u001b[0;34m\u001b[0m\u001b[0m\n\u001b[1;32m     28\u001b[0m \u001b[0;34m\u001b[0m\u001b[0m\n\u001b[0;32m---> 29\u001b[0;31m     \u001b[0mcur\u001b[0m\u001b[0;34m.\u001b[0m\u001b[0mexecute\u001b[0m\u001b[0;34m(\u001b[0m\u001b[0mquery1\u001b[0m\u001b[0;34m)\u001b[0m\u001b[0;34m\u001b[0m\u001b[0;34m\u001b[0m\u001b[0m\n\u001b[0m\u001b[1;32m     30\u001b[0m \u001b[0;34m\u001b[0m\u001b[0m\n\u001b[1;32m     31\u001b[0m     \u001b[0mrows\u001b[0m \u001b[0;34m=\u001b[0m \u001b[0mcur\u001b[0m\u001b[0;34m.\u001b[0m\u001b[0mfetchall\u001b[0m\u001b[0;34m(\u001b[0m\u001b[0;34m)\u001b[0m\u001b[0;34m\u001b[0m\u001b[0;34m\u001b[0m\u001b[0m\n",
      "\u001b[0;31mOperationalError\u001b[0m: no such function: MONTH"
     ]
    }
   ],
   "source": [
    "query1 = \"\"\"\n",
    "SELECT\n",
    "\tname AS facility_name,\n",
    "\tMONTH(starttime) AS month,\n",
    "\tsum(slots) AS total_slots_booked\n",
    "FROM Facilities\n",
    "LEFT JOIN Bookings USING (facid)\n",
    "GROUP BY name, MONTH(starttime)\n",
    "ORDER BY sum(slots) DESC;\n",
    "\"\"\"\n",
    "if __name__ == '__main__':\n",
    "    main()"
   ]
  }
 ],
 "metadata": {
  "kernelspec": {
   "display_name": "Python 3",
   "language": "python",
   "name": "python3"
  },
  "language_info": {
   "codemirror_mode": {
    "name": "ipython",
    "version": 3
   },
   "file_extension": ".py",
   "mimetype": "text/x-python",
   "name": "python",
   "nbconvert_exporter": "python",
   "pygments_lexer": "ipython3",
   "version": "3.8.3"
  }
 },
 "nbformat": 4,
 "nbformat_minor": 4
}
